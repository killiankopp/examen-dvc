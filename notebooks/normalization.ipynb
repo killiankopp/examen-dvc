{
 "cells": [
  {
   "cell_type": "code",
   "execution_count": null,
   "id": "initial_id",
   "metadata": {
    "collapsed": true
   },
   "outputs": [],
   "source": [
    "from src.config_manager import ConfigurationManager\n",
    "from src.normalisation import DataNormalization\n",
    "\n",
    "config = ConfigurationManager()\n",
    "data_normalization_config = config.get_data_normalization_config()\n",
    "data_transformation = DataNormalization(config = data_normalization_config)\n",
    "data_transformation.normalize()"
   ]
  }
 ],
 "metadata": {
  "kernelspec": {
   "display_name": "Python 3",
   "language": "python",
   "name": "python3"
  },
  "language_info": {
   "codemirror_mode": {
    "name": "ipython",
    "version": 2
   },
   "file_extension": ".py",
   "mimetype": "text/x-python",
   "name": "python",
   "nbconvert_exporter": "python",
   "pygments_lexer": "ipython2",
   "version": "2.7.6"
  }
 },
 "nbformat": 4,
 "nbformat_minor": 5
}
