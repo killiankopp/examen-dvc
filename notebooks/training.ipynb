{
 "cells": [
  {
   "metadata": {},
   "cell_type": "code",
   "outputs": [],
   "execution_count": null,
   "source": [
    "from src.config_manager import ConfigurationManager\n",
    "from src.training import ModelTrainer\n",
    "\n",
    "config = ConfigurationManager()\n",
    "data_model_trainer_config = config.get_model_trainer_config()\n",
    "data_transformation = ModelTrainer(config = data_model_trainer_config)\n",
    "data_transformation.train()"
   ],
   "id": "5dd6ee4f8b3a53e5"
  }
 ],
 "metadata": {
  "kernelspec": {
   "display_name": "Python 3",
   "language": "python",
   "name": "python3"
  },
  "language_info": {
   "codemirror_mode": {
    "name": "ipython",
    "version": 2
   },
   "file_extension": ".py",
   "mimetype": "text/x-python",
   "name": "python",
   "nbconvert_exporter": "python",
   "pygments_lexer": "ipython2",
   "version": "2.7.6"
  }
 },
 "nbformat": 4,
 "nbformat_minor": 5
}
